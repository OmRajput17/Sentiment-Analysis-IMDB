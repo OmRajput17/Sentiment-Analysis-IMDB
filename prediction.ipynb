{
 "cells": [
  {
   "cell_type": "code",
   "execution_count": 1,
   "id": "393c8a3e",
   "metadata": {},
   "outputs": [],
   "source": [
    "import numpy as np\n",
    "import tensorflow as tf\n",
    "from tensorflow.keras.datasets import imdb\n",
    "from tensorflow.keras.preprocessing import sequence\n",
    "from tensorflow.keras.models import load_model "
   ]
  },
  {
   "cell_type": "code",
   "execution_count": 2,
   "id": "1222faee",
   "metadata": {},
   "outputs": [],
   "source": [
    "word_index = imdb.get_word_index()\n",
    "reverse_word_index = {value:key for key, value in word_index.items()}"
   ]
  },
  {
   "cell_type": "code",
   "execution_count": null,
   "id": "6b28bd50",
   "metadata": {},
   "outputs": [],
   "source": [
    "# Load the model\n",
    "\n",
    "model = load_model('IMDB_Classification.h5')\n",
    "model.summary()"
   ]
  },
  {
   "cell_type": "code",
   "execution_count": null,
   "id": "26d7d468",
   "metadata": {},
   "outputs": [],
   "source": [
    "model.get_weights()"
   ]
  },
  {
   "cell_type": "code",
   "execution_count": 9,
   "id": "6e9b2c9d",
   "metadata": {},
   "outputs": [],
   "source": [
    "# Function to decode the review\n",
    "\n",
    "def decode_review(encoded_review):\n",
    "    return \" \".join(reverse_word_index.get(i - 3, '?') for i in encoded_review)\n",
    "\n",
    "# Function to preprocess the user input\n",
    "def preprocess_data(text):\n",
    "    words = text.lower().split()\n",
    "    encoded_review = [word_index.get(word, 2)+3 for word in words]\n",
    "    padded_review = sequence.pad_sequences([encoded_review], maxlen = 500)\n",
    "    return padded_review"
   ]
  },
  {
   "cell_type": "code",
   "execution_count": 10,
   "id": "7a0f2414",
   "metadata": {},
   "outputs": [],
   "source": [
    "# prediction function\n",
    "\n",
    "def predict_sentiment(review):\n",
    "    preprocessed_input = preprocess_data(review)\n",
    "\n",
    "    prediction = model.predict(preprocessed_input)\n",
    "    sentiment = 'Positive' if prediction[0][0] > 0.5 else 'Negative'\n",
    "\n",
    "    return sentiment, prediction[0][0]"
   ]
  },
  {
   "cell_type": "code",
   "execution_count": 11,
   "id": "6ba6f734",
   "metadata": {},
   "outputs": [
    {
     "name": "stdout",
     "output_type": "stream",
     "text": [
      "\u001b[1m1/1\u001b[0m \u001b[32m━━━━━━━━━━━━━━━━━━━━\u001b[0m\u001b[37m\u001b[0m \u001b[1m0s\u001b[0m 106ms/step\n",
      "Review: this moview was fantastic and The acting was fabulous and the plot was amazing and full of thrill and action.\n",
      "Sentiment: Positive\n",
      "Probability: 0.7753850817680359\n"
     ]
    }
   ],
   "source": [
    "example_review = \"this moview was fantastic and The acting was fabulous and the plot was amazing and full of thrill and action.\"\n",
    "\n",
    "sentiment, score = predict_sentiment(example_review)\n",
    "\n",
    "print(f\"Review: {example_review}\")\n",
    "print(f\"Sentiment: {sentiment}\")\n",
    "print(f\"Probability: {score}\")"
   ]
  },
  {
   "cell_type": "code",
   "execution_count": null,
   "id": "74bffe8c",
   "metadata": {},
   "outputs": [],
   "source": []
  }
 ],
 "metadata": {
  "kernelspec": {
   "display_name": "Python 3",
   "language": "python",
   "name": "python3"
  },
  "language_info": {
   "codemirror_mode": {
    "name": "ipython",
    "version": 3
   },
   "file_extension": ".py",
   "mimetype": "text/x-python",
   "name": "python",
   "nbconvert_exporter": "python",
   "pygments_lexer": "ipython3",
   "version": "3.11.0"
  }
 },
 "nbformat": 4,
 "nbformat_minor": 5
}
